{
 "cells": [
  {
   "cell_type": "code",
   "execution_count": 14,
   "id": "8dc8107a",
   "metadata": {},
   "outputs": [
    {
     "name": "stdout",
     "output_type": "stream",
     "text": [
      "Hello world from Jupyter!\n"
     ]
    }
   ],
   "source": [
    "print(\"Hello world from Jupyter!\")"
   ]
  },
  {
   "cell_type": "code",
   "execution_count": 15,
   "id": "72ec31b3",
   "metadata": {},
   "outputs": [],
   "source": [
    "import time\n",
    "time.sleep(4)"
   ]
  },
  {
   "cell_type": "code",
   "execution_count": 16,
   "id": "28267f74",
   "metadata": {},
   "outputs": [],
   "source": [
    "def say_hello(name):\n",
    "    return 'Hello, {}'.format(name)"
   ]
  },
  {
   "cell_type": "code",
   "execution_count": 17,
   "id": "7161e8bb",
   "metadata": {},
   "outputs": [
    {
     "data": {
      "text/plain": [
       "'Hello, John'"
      ]
     },
     "execution_count": 17,
     "metadata": {},
     "output_type": "execute_result"
    }
   ],
   "source": [
    "say_hello('John')"
   ]
  },
  {
   "cell_type": "code",
   "execution_count": 18,
   "id": "0aa800fe",
   "metadata": {},
   "outputs": [],
   "source": [
    "num1 = 10\n",
    "num2 = 7"
   ]
  },
  {
   "cell_type": "code",
   "execution_count": 19,
   "id": "65052d3f",
   "metadata": {},
   "outputs": [
    {
     "name": "stdout",
     "output_type": "stream",
     "text": [
      "3\n"
     ]
    }
   ],
   "source": [
    "x=num1-num2\n",
    "print(x)"
   ]
  },
  {
   "cell_type": "markdown",
   "id": "76b77e84",
   "metadata": {},
   "source": [
    "# This is heading 1\n",
    "## this is heading 2\n",
    "**This is bold text** __This is bold text too__\n",
    "*This is italic* _this is also italic_\n",
    "you can also create lists:\n",
    "* item 1 in bullets\n",
    "* item 2 in bullets\n",
    "you can also create numbered lists\n",
    "1. item 1 in a numeric list\n",
    "2. item 2 in a numeric list\n",
    "[this is a link to tlu webpage](http://www.tlu.edu)"
   ]
  },
  {
   "cell_type": "code",
   "execution_count": 20,
   "id": "714558c3",
   "metadata": {},
   "outputs": [],
   "source": [
    "import numpy as np\n",
    "def square(x):\n",
    "    return x*x"
   ]
  },
  {
   "cell_type": "code",
   "execution_count": 21,
   "id": "d4b404e7",
   "metadata": {},
   "outputs": [
    {
     "name": "stdout",
     "output_type": "stream",
     "text": [
      "3 squared is: 9\n"
     ]
    }
   ],
   "source": [
    "x= np.random.randint(1,10)\n",
    "y= square(x)\n",
    "print('%d squared is: %d' % (x,y))"
   ]
  },
  {
   "cell_type": "code",
   "execution_count": null,
   "id": "931061a5",
   "metadata": {},
   "outputs": [],
   "source": []
  },
  {
   "cell_type": "code",
   "execution_count": null,
   "id": "080b4897",
   "metadata": {},
   "outputs": [],
   "source": []
  }
 ],
 "metadata": {
  "kernelspec": {
   "display_name": "Python 3 (ipykernel)",
   "language": "python",
   "name": "python3"
  },
  "language_info": {
   "codemirror_mode": {
    "name": "ipython",
    "version": 3
   },
   "file_extension": ".py",
   "mimetype": "text/x-python",
   "name": "python",
   "nbconvert_exporter": "python",
   "pygments_lexer": "ipython3",
   "version": "3.9.7"
  }
 },
 "nbformat": 4,
 "nbformat_minor": 5
}
